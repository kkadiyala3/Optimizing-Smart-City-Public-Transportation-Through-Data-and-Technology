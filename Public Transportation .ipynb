{
 "cells": [
  {
   "cell_type": "code",
   "execution_count": 23,
   "id": "1d1e60d6-569a-4ba8-b635-d6ebf1f0a26d",
   "metadata": {},
   "outputs": [],
   "source": [
    "import pandas as pd\n",
    "from sklearn.model_selection import train_test_split\n",
    "from sklearn.linear_model import Lasso, Ridge\n",
    "from sklearn.tree import DecisionTreeRegressor\n",
    "from xgboost import XGBRegressor\n",
    "from sklearn.metrics import roc_auc_score, precision_score, accuracy_score, mean_absolute_error, mean_squared_error\n",
    "from sklearn.preprocessing import StandardScaler, OneHotEncoder\n",
    "from sklearn.compose import ColumnTransformer\n",
    "from sklearn.pipeline import Pipeline\n",
    "from imblearn.over_sampling import RandomOverSampler\n",
    "import numpy as np\n",
    "from sklearn.metrics import r2_score, explained_variance_score\n"
   ]
  },
  {
   "cell_type": "code",
   "execution_count": 2,
   "id": "de0b9497-cba9-46cd-abf6-497a979577a0",
   "metadata": {},
   "outputs": [],
   "source": [
    "data = pd.read_csv(\"public_transportation_dataset.csv\")\n"
   ]
  },
  {
   "cell_type": "code",
   "execution_count": 3,
   "id": "d917b9bd-c0ab-4c44-a18a-c7f301ad9cad",
   "metadata": {},
   "outputs": [],
   "source": [
    "data['Special_Schedules'].fillna('Not Available', inplace=True)"
   ]
  },
  {
   "cell_type": "code",
   "execution_count": 4,
   "id": "69619878-76ba-4b03-9cc1-a9185f2133be",
   "metadata": {},
   "outputs": [],
   "source": [
    "data['Total_Stops'] = data['Intermediate_Stops'].apply(lambda x: len(x.split(',')) + 2)\n"
   ]
  },
  {
   "cell_type": "code",
   "execution_count": 5,
   "id": "51912e6e-7d90-4146-bc48-2b6c4c079562",
   "metadata": {},
   "outputs": [
    {
     "data": {
      "text/html": [
       "<div>\n",
       "<style scoped>\n",
       "    .dataframe tbody tr th:only-of-type {\n",
       "        vertical-align: middle;\n",
       "    }\n",
       "\n",
       "    .dataframe tbody tr th {\n",
       "        vertical-align: top;\n",
       "    }\n",
       "\n",
       "    .dataframe thead th {\n",
       "        text-align: right;\n",
       "    }\n",
       "</style>\n",
       "<table border=\"1\" class=\"dataframe\">\n",
       "  <thead>\n",
       "    <tr style=\"text-align: right;\">\n",
       "      <th></th>\n",
       "      <th>Route_ID</th>\n",
       "      <th>Starting_Point</th>\n",
       "      <th>Ending_Point</th>\n",
       "      <th>Intermediate_Stops</th>\n",
       "      <th>Distance</th>\n",
       "      <th>Estimated_Travel_Time</th>\n",
       "      <th>Type_of_Transportation</th>\n",
       "      <th>Frequency_of_Service</th>\n",
       "      <th>Time_Schedule</th>\n",
       "      <th>Days_of_Operation</th>\n",
       "      <th>Special_Schedules</th>\n",
       "      <th>Total_Stops</th>\n",
       "    </tr>\n",
       "  </thead>\n",
       "  <tbody>\n",
       "    <tr>\n",
       "      <th>0</th>\n",
       "      <td>R1</td>\n",
       "      <td>Adamstad</td>\n",
       "      <td>Stewartland</td>\n",
       "      <td>['North Patrickstad', 'Middletonton', 'Wallvil...</td>\n",
       "      <td>10.799057</td>\n",
       "      <td>18</td>\n",
       "      <td>subway</td>\n",
       "      <td>1</td>\n",
       "      <td>07:05:17</td>\n",
       "      <td>Weekdays</td>\n",
       "      <td>Should recognize whose medical bring adult lis...</td>\n",
       "      <td>5</td>\n",
       "    </tr>\n",
       "    <tr>\n",
       "      <th>1</th>\n",
       "      <td>R2</td>\n",
       "      <td>Brookeburgh</td>\n",
       "      <td>New Lindaport</td>\n",
       "      <td>['Youngberg', 'Jasonville']</td>\n",
       "      <td>9.271333</td>\n",
       "      <td>49</td>\n",
       "      <td>bus</td>\n",
       "      <td>1</td>\n",
       "      <td>09:16:09</td>\n",
       "      <td>Weekends</td>\n",
       "      <td>Not Available</td>\n",
       "      <td>4</td>\n",
       "    </tr>\n",
       "    <tr>\n",
       "      <th>2</th>\n",
       "      <td>R3</td>\n",
       "      <td>Port Patrickstad</td>\n",
       "      <td>Josephmouth</td>\n",
       "      <td>['South Alexandriahaven', 'Lake Madison', 'Sco...</td>\n",
       "      <td>15.774874</td>\n",
       "      <td>17</td>\n",
       "      <td>tram</td>\n",
       "      <td>1</td>\n",
       "      <td>03:53:52</td>\n",
       "      <td>Weekends</td>\n",
       "      <td>Not Available</td>\n",
       "      <td>7</td>\n",
       "    </tr>\n",
       "    <tr>\n",
       "      <th>3</th>\n",
       "      <td>R4</td>\n",
       "      <td>West Melissa</td>\n",
       "      <td>Sanchezstad</td>\n",
       "      <td>['West Sean']</td>\n",
       "      <td>15.439269</td>\n",
       "      <td>16</td>\n",
       "      <td>tram</td>\n",
       "      <td>2</td>\n",
       "      <td>19:11:59</td>\n",
       "      <td>Weekdays</td>\n",
       "      <td>Into involve clear left.</td>\n",
       "      <td>3</td>\n",
       "    </tr>\n",
       "    <tr>\n",
       "      <th>4</th>\n",
       "      <td>R5</td>\n",
       "      <td>South Justinborough</td>\n",
       "      <td>Port Kathleenburgh</td>\n",
       "      <td>['Port Aaronfurt', 'Ellisfurt', 'South Nathani...</td>\n",
       "      <td>6.503155</td>\n",
       "      <td>34</td>\n",
       "      <td>tram</td>\n",
       "      <td>4</td>\n",
       "      <td>22:23:10</td>\n",
       "      <td>Weekends</td>\n",
       "      <td>Not Available</td>\n",
       "      <td>5</td>\n",
       "    </tr>\n",
       "  </tbody>\n",
       "</table>\n",
       "</div>"
      ],
      "text/plain": [
       "  Route_ID       Starting_Point        Ending_Point  \\\n",
       "0       R1             Adamstad         Stewartland   \n",
       "1       R2          Brookeburgh       New Lindaport   \n",
       "2       R3     Port Patrickstad         Josephmouth   \n",
       "3       R4         West Melissa         Sanchezstad   \n",
       "4       R5  South Justinborough  Port Kathleenburgh   \n",
       "\n",
       "                                  Intermediate_Stops   Distance  \\\n",
       "0  ['North Patrickstad', 'Middletonton', 'Wallvil...  10.799057   \n",
       "1                        ['Youngberg', 'Jasonville']   9.271333   \n",
       "2  ['South Alexandriahaven', 'Lake Madison', 'Sco...  15.774874   \n",
       "3                                      ['West Sean']  15.439269   \n",
       "4  ['Port Aaronfurt', 'Ellisfurt', 'South Nathani...   6.503155   \n",
       "\n",
       "   Estimated_Travel_Time Type_of_Transportation  Frequency_of_Service  \\\n",
       "0                     18                 subway                     1   \n",
       "1                     49                    bus                     1   \n",
       "2                     17                   tram                     1   \n",
       "3                     16                   tram                     2   \n",
       "4                     34                   tram                     4   \n",
       "\n",
       "  Time_Schedule Days_of_Operation  \\\n",
       "0      07:05:17          Weekdays   \n",
       "1      09:16:09          Weekends   \n",
       "2      03:53:52          Weekends   \n",
       "3      19:11:59          Weekdays   \n",
       "4      22:23:10          Weekends   \n",
       "\n",
       "                                   Special_Schedules  Total_Stops  \n",
       "0  Should recognize whose medical bring adult lis...            5  \n",
       "1                                      Not Available            4  \n",
       "2                                      Not Available            7  \n",
       "3                           Into involve clear left.            3  \n",
       "4                                      Not Available            5  "
      ]
     },
     "execution_count": 5,
     "metadata": {},
     "output_type": "execute_result"
    }
   ],
   "source": [
    "data.head()"
   ]
  },
  {
   "cell_type": "code",
   "execution_count": 5,
   "id": "6911f71a-b2e6-4012-bd64-10dfb770e4d1",
   "metadata": {},
   "outputs": [],
   "source": [
    "X = data.drop(['Route_ID','Estimated_Travel_Time'], axis=1)\n",
    "y = data['Estimated_Travel_Time']\n",
    "\n",
    "# Split the data into training and testing sets\n",
    "X_train, X_test, y_train, y_test = train_test_split(X, y, test_size=0.2, random_state=42)\n",
    "\n",
    "# Apply random oversampling (optional, depending on the distribution of 'Estimated_Travel_Time')\n",
    "ros = RandomOverSampler(random_state=42)\n",
    "X_resampled, y_resampled = ros.fit_resample(X_train, y_train)\n"
   ]
  },
  {
   "cell_type": "code",
   "execution_count": 22,
   "id": "5d5721d5-4e32-4177-ba04-89cd8891b4bf",
   "metadata": {},
   "outputs": [],
   "source": [
    "def evaluate_regression_model(model, X_train, X_test, y_train, y_test):\n",
    "    model.fit(X_train, y_train)\n",
    "    y_pred = model.predict(X_test)\n",
    "\n",
    "    mae = mean_absolute_error(y_test, y_pred)\n",
    "    mse = mean_squared_error(y_test, y_pred)\n",
    "    rmse = np.sqrt(mse)\n",
    "    mape = np.mean(np.abs((y_test - y_pred) / y_test)) * 100\n",
    "    r2 = r2_score(y_test, y_pred)\n",
    "    explained_var = explained_variance_score(y_test, y_pred)\n",
    "\n",
    "    return mae, mse, rmse, mape, r2, explained_var\n"
   ]
  },
  {
   "cell_type": "code",
   "execution_count": 14,
   "id": "fb3efc8e-4445-4ddb-86df-90e813c84e36",
   "metadata": {},
   "outputs": [],
   "source": [
    "numeric_features = X_train.select_dtypes(include=['int64', 'float64']).columns\n",
    "categorical_features = X_train.select_dtypes(include=['object']).columns\n"
   ]
  },
  {
   "cell_type": "code",
   "execution_count": 15,
   "id": "2165c69e-98c7-4ec2-8ec1-7dbed6c30b9c",
   "metadata": {},
   "outputs": [],
   "source": [
    "numeric_transformer = Pipeline(steps=[\n",
    "    ('scaler', StandardScaler())\n",
    "])\n"
   ]
  },
  {
   "cell_type": "code",
   "execution_count": 16,
   "id": "09e26ecc-40e4-4278-810c-b09e35e199bc",
   "metadata": {},
   "outputs": [],
   "source": [
    "categorical_transformer = Pipeline(steps=[\n",
    "    ('onehot', OneHotEncoder(handle_unknown='ignore'))\n",
    "])\n"
   ]
  },
  {
   "cell_type": "code",
   "execution_count": 17,
   "id": "131066cc-a2ec-4477-8033-ed92ab3c5096",
   "metadata": {},
   "outputs": [],
   "source": [
    "preprocessor = ColumnTransformer(\n",
    "    transformers=[\n",
    "        ('num', numeric_transformer, numeric_features),\n",
    "        ('cat', categorical_transformer, categorical_features)\n",
    "    ])\n"
   ]
  },
  {
   "cell_type": "code",
   "execution_count": 18,
   "id": "ed9dcf39-fc65-4450-a2fb-a269abc4e1b7",
   "metadata": {},
   "outputs": [],
   "source": [
    "lasso_model = Pipeline(steps=[\n",
    "    ('preprocessor', preprocessor),\n",
    "    ('lasso', Lasso(alpha=0.1))\n",
    "])\n"
   ]
  },
  {
   "cell_type": "code",
   "execution_count": 25,
   "id": "8b0ac3d3-9d1a-47fe-b0a1-b28f4cdc565d",
   "metadata": {},
   "outputs": [
    {
     "name": "stdout",
     "output_type": "stream",
     "text": [
      "\n",
      "Lasso Regression Results:\n",
      "MAE: 11.3421\n",
      "MSE: 170.7241\n",
      "RMSE: 13.0661\n",
      "MAPE: 36.1493%\n",
      "R-squared: -0.0021\n",
      "Explained Variance: 0.0011\n"
     ]
    }
   ],
   "source": [
    "mae, mse, rmse, mape, r2, explained_var = evaluate_regression_model(lasso_model, X_resampled, X_test, y_resampled, y_test)\n",
    "print(\"\\nLasso Regression Results:\")\n",
    "print(f\"MAE: {mae:.4f}\")\n",
    "print(f\"MSE: {mse:.4f}\")\n",
    "print(f\"RMSE: {rmse:.4f}\")\n",
    "print(f\"MAPE: {mape:.4f}%\")\n",
    "print(f\"R-squared: {r2:.4f}\")\n",
    "print(f\"Explained Variance: {explained_var:.4f}\")\n"
   ]
  },
  {
   "cell_type": "code",
   "execution_count": 26,
   "id": "fb954b3c-a159-4bb9-ac35-b8c042581606",
   "metadata": {},
   "outputs": [
    {
     "name": "stdout",
     "output_type": "stream",
     "text": [
      "\n",
      "Decision Tree Regression Results:\n",
      "MAE: 11.3421\n",
      "MSE: 170.7241\n",
      "RMSE: 13.0661\n",
      "MAPE: 36.1493%\n",
      "R-squared: -0.0021\n",
      "Explained Variance: 0.0011\n"
     ]
    }
   ],
   "source": [
    "dt_model = Pipeline(steps=[\n",
    "    ('preprocessor', preprocessor),\n",
    "    ('dt', DecisionTreeRegressor(random_state=42))\n",
    "])\n",
    "\n",
    "mae, mse, rmse, mape, r2, explained_var = evaluate_regression_model(lasso_model, X_resampled, X_test, y_resampled, y_test)\n",
    "print(\"\\nDecision Tree Regression Results:\")\n",
    "print(f\"MAE: {mae:.4f}\")\n",
    "print(f\"MSE: {mse:.4f}\")\n",
    "print(f\"RMSE: {rmse:.4f}\")\n",
    "print(f\"MAPE: {mape:.4f}%\")\n",
    "print(f\"R-squared: {r2:.4f}\")\n",
    "print(f\"Explained Variance: {explained_var:.4f}\")\n"
   ]
  },
  {
   "cell_type": "code",
   "execution_count": 27,
   "id": "feede07e-3f66-4210-9640-c9b53c109da5",
   "metadata": {},
   "outputs": [
    {
     "name": "stdout",
     "output_type": "stream",
     "text": [
      "\n",
      "Ridge Regression Results:\n",
      "MAE: 11.4410\n",
      "MSE: 174.7762\n",
      "RMSE: 13.2203\n",
      "MAPE: 36.2626%\n",
      "R-squared: -0.0258\n",
      "Explained Variance: -0.0213\n"
     ]
    }
   ],
   "source": [
    "ridge_model = Pipeline(steps=[\n",
    "    ('preprocessor', preprocessor),\n",
    "    ('ridge', Ridge(alpha=0.1))\n",
    "])\n",
    "\n",
    "mae, mse, rmse, mape, r2, explained_var = evaluate_regression_model(ridge_model, X_resampled, X_test, y_resampled, y_test)\n",
    "print(\"\\nRidge Regression Results:\")\n",
    "print(f\"MAE: {mae:.4f}\")\n",
    "print(f\"MSE: {mse:.4f}\")\n",
    "print(f\"RMSE: {rmse:.4f}\")\n",
    "print(f\"MAPE: {mape:.4f}%\")\n",
    "print(f\"R-squared: {r2:.4f}\")\n",
    "print(f\"Explained Variance: {explained_var:.4f}\")\n"
   ]
  },
  {
   "cell_type": "code",
   "execution_count": 28,
   "id": "a828cd1d-87d3-4afe-a1c2-f3a448a4e48e",
   "metadata": {},
   "outputs": [
    {
     "name": "stderr",
     "output_type": "stream",
     "text": [
      "C:\\Users\\hp\\AppData\\Local\\Programs\\Python\\Python311\\Lib\\site-packages\\xgboost\\data.py:520: FutureWarning: is_sparse is deprecated and will be removed in a future version. Check `isinstance(dtype, pd.SparseDtype)` instead.\n",
      "  if is_sparse(data):\n"
     ]
    },
    {
     "name": "stdout",
     "output_type": "stream",
     "text": [
      "\n",
      "XGBoost Regressor Results:\n",
      "MAE: 11.3367\n",
      "MSE: 171.4056\n",
      "RMSE: 13.0922\n",
      "MAPE: 36.2112%\n",
      "R-squared: -0.0061\n",
      "Explained Variance: -0.0036\n"
     ]
    }
   ],
   "source": [
    "xgb_model = Pipeline(steps=[\n",
    "    ('preprocessor', preprocessor),\n",
    "    ('xgb', XGBRegressor(random_state=42))\n",
    "])\n",
    "\n",
    "mae, mse, rmse, mape, r2, explained_var = evaluate_regression_model(xgb_model, X_resampled, X_test, y_resampled, y_test)\n",
    "print(\"\\nXGBoost Regressor Results:\")\n",
    "print(f\"MAE: {mae:.4f}\")\n",
    "print(f\"MSE: {mse:.4f}\")\n",
    "print(f\"RMSE: {rmse:.4f}\")\n",
    "print(f\"MAPE: {mape:.4f}%\")\n",
    "print(f\"R-squared: {r2:.4f}\")\n",
    "print(f\"Explained Variance: {explained_var:.4f}\")\n"
   ]
  },
  {
   "cell_type": "code",
   "execution_count": null,
   "id": "981fb60b-133f-4ee2-bbc3-b795f63641c3",
   "metadata": {},
   "outputs": [],
   "source": []
  }
 ],
 "metadata": {
  "kernelspec": {
   "display_name": "Python 3 (ipykernel)",
   "language": "python",
   "name": "python3"
  },
  "language_info": {
   "codemirror_mode": {
    "name": "ipython",
    "version": 3
   },
   "file_extension": ".py",
   "mimetype": "text/x-python",
   "name": "python",
   "nbconvert_exporter": "python",
   "pygments_lexer": "ipython3",
   "version": "3.11.6"
  }
 },
 "nbformat": 4,
 "nbformat_minor": 5
}
